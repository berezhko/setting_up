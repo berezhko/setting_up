{
 "cells": [
  {
   "cell_type": "code",
   "execution_count": null,
   "metadata": {},
   "outputs": [],
   "source": [
    "%pylab inline"
   ]
  },
  {
   "cell_type": "code",
   "execution_count": null,
   "metadata": {},
   "outputs": [],
   "source": [
    "pylab.rcParams[\"figure.figsize\"] = (30, 42)\n",
    "pylab.rcParams[\"font.size\"] = 24\n",
    "pylab.rcParams[\"font.family\"] = \"serif\"\n",
    "sys.path.append('../libs')"
   ]
  },
  {
   "cell_type": "code",
   "execution_count": null,
   "metadata": {},
   "outputs": [],
   "source": [
    "from plotChart import print_oscilogram as po\n",
    "from plotChart import scaleForPSS2\n",
    "from plotChart import getIntervalRamp as getIndex"
   ]
  },
  {
   "cell_type": "code",
   "execution_count": null,
   "metadata": {},
   "outputs": [],
   "source": [
    "df_a1e772 = po(\"арв1 vhz на арв1 и арв2.csv\", be=(110, 130), not_plot=['yAvr', 'Fnom Hz', 'SetLimQg', 'Eq', 'Fg Hz', 'Pg', 'Qg', 'Ig', 'MaxSetUgV/Hz', 'BiasCmn', 'IfOvl', 'xCmnCnl'], add_chart=['vhz'], img_name='арв1 vhz.png')"
   ]
  },
  {
   "cell_type": "code",
   "execution_count": null,
   "metadata": {},
   "outputs": [],
   "source": [
    "df_c09190 = po(\"арв1 гаш авт.csv\", be=(18, 28), not_plot=['yAvr', 'Fnom Hz', 'SetLimQg', 'Eq', 'Fg Hz', 'Pg', 'Qg', 'Ig', 'MaxSetUgV/Hz', 'BiasCmn', 'IfOvl', 'xCmnCnl'], img_name='арв1 гаш авт.png')"
   ]
  },
  {
   "cell_type": "code",
   "execution_count": null,
   "metadata": {},
   "outputs": [],
   "source": [
    "df_4a4976 = po(\"арв1 гаш откл агп.csv\", be=(7, 17), not_plot=['yAvr', 'Fnom Hz', 'SetLimQg', 'Eq', 'Fg Hz', 'Pg', 'Qg', 'Ig', 'MaxSetUgV/Hz', 'BiasCmn', 'IfOvl', 'xCmnCnl'], img_name='арв1 гаш откл агп.png')"
   ]
  },
  {
   "cell_type": "code",
   "execution_count": null,
   "metadata": {},
   "outputs": [],
   "source": [
    "df_c45728 = po(\"арв1 гаш откл агп по P и Q на арв2.csv\", be=(188, 198), not_plot=['yAvr', 'Fnom Hz', 'SetLimQg', 'Eq', 'Fg Hz', 'Pg', 'Qg', 'Ig', 'MaxSetUgV/Hz', 'BiasCmn', 'IfOvl', 'xCmnCnl'], img_name='арв1 гаш откл агп по P и Q на арв2.png')"
   ]
  },
  {
   "cell_type": "code",
   "execution_count": null,
   "metadata": {},
   "outputs": [],
   "source": [
    "df_f11483 = po(\"арв1 гаш откл агп по T.csv\", be=(100, 110), not_plot=['yAvr', 'Fnom Hz', 'SetLimQg', 'Eq', 'Fg Hz', 'Pg', 'Qg', 'Ig', 'MaxSetUgV/Hz', 'BiasCmn', 'IfOvl', 'xCmnCnl'], img_name='арв1 гаш откл агп по T.png')"
   ]
  },
  {
   "cell_type": "code",
   "execution_count": null,
   "metadata": {},
   "outputs": [],
   "source": [
    "df_768d23 = po(\"арв1 гаш руч.csv\", be=(4, 14), not_plot=['yAvr', 'Fnom Hz', 'SetLimQg', 'Eq', 'Fg Hz', 'Pg', 'Qg', 'Ig', 'MaxSetUgV/Hz', 'BiasCmn', 'IfOvl', 'xCmnCnl'], img_name='арв1 гаш руч.png')"
   ]
  },
  {
   "cell_type": "code",
   "execution_count": null,
   "metadata": {},
   "outputs": [],
   "source": [
    "df_9f6786 = po(\"арв1 диапаз авт.csv\", be=(0, 140), not_plot=['yAvr', 'Fnom Hz', 'SetLimQg', 'Eq', 'Fg Hz', 'Pg', 'Qg', 'Ig', 'MaxSetUgV/Hz', 'BiasCmn', 'IfOvl', 'xCmnCnl'], img_name='арв1 диапаз авт.png')"
   ]
  },
  {
   "cell_type": "code",
   "execution_count": null,
   "metadata": {},
   "outputs": [],
   "source": [
    "df_c383e9 = po(\"арв1 диапаз руч.csv\", be=(20, 120), not_plot=['yAvr', 'Fnom Hz', 'SetLimQg', 'Eq', 'Fg Hz', 'Pg', 'Qg', 'Ig', 'MaxSetUgV/Hz', 'BiasCmn', 'IfOvl', 'xCmnCnl'], img_name='арв1 диапаз руч.png')"
   ]
  },
  {
   "cell_type": "code",
   "execution_count": null,
   "metadata": {},
   "outputs": [],
   "source": [
    "df_869283 = po(\"арв1 нв авт.csv\", be=(10, 25), not_plot=['yAvr', 'Fnom Hz', 'SetLimQg', 'Eq', 'Fg Hz', 'Pg', 'Qg', 'Ig', 'MaxSetUgV/Hz', 'BiasCmn', 'IfOvl', 'xCmnCnl'], img_name='арв1 нв авт.png')"
   ]
  },
  {
   "cell_type": "code",
   "execution_count": null,
   "metadata": {},
   "outputs": [],
   "source": [
    "df_f2ba3d = po(\"арв1 нв руч.csv\", be=(2, 22), not_plot=['yAvr', 'Fnom Hz', 'SetLimQg', 'Eq', 'Fg Hz', 'Pg', 'Qg', 'Ig', 'MaxSetUgV/Hz', 'BiasCmn', 'IfOvl', 'xCmnCnl'], img_name='арв1 нв руч.png')"
   ]
  },
  {
   "cell_type": "code",
   "execution_count": null,
   "metadata": {},
   "outputs": [],
   "source": [
    "df_1d7222 = po(\"арв1 пер с авр1 на арв2 откл 3х100.csv\", be=(0, -1), not_plot=['yAvr', 'Fnom Hz', 'SetLimQg', 'Eq', 'Fg Hz', 'Pg', 'Qg', 'Ig', 'MaxSetUgV/Hz', 'BiasCmn', 'IfOvl', 'xCmnCnl'], def_scale=2, def_filters=10, img_name='арв1 пер с авр1 на арв2 откл 3х100.png')"
   ]
  },
  {
   "cell_type": "code",
   "execution_count": null,
   "metadata": {},
   "outputs": [],
   "source": [
    "df_d1fe45 = po(\"арв1 пер с авр2 на арв1 откл 3х100.csv\", be=(0, -1), not_plot=['yAvr', 'Fnom Hz', 'SetLimQg', 'Eq', 'Fg Hz', 'Pg', 'Qg', 'Ig', 'MaxSetUgV/Hz', 'BiasCmn', 'IfOvl', 'xCmnCnl'], def_scale=2, def_filters=10, img_name='арв1 пер с авр2 на арв1 откл 3х100.png')"
   ]
  },
  {
   "cell_type": "code",
   "execution_count": null,
   "metadata": {},
   "outputs": [],
   "source": [
    "df_97db3c = po(\"арв1 пер с авт на руч.csv\", be=(0, -1), not_plot=['yAvr', 'Fnom Hz', 'SetLimQg', 'Eq', 'Fg Hz', 'Pg', 'Qg', 'Ig', 'MaxSetUgV/Hz', 'BiasCmn', 'IfOvl', 'xCmnCnl'], def_scale=2, def_filters=10, img_name='арв1 пер с авт на руч.png')"
   ]
  },
  {
   "cell_type": "code",
   "execution_count": null,
   "metadata": {},
   "outputs": [],
   "source": [
    "df_bc0121 = po(\"арв1 пер с авт руч откл 3х100.csv\", be=(0, -1), not_plot=['yAvr', 'Fnom Hz', 'SetLimQg', 'Eq', 'Fg Hz', 'Pg', 'Qg', 'Ig', 'MaxSetUgV/Hz', 'BiasCmn', 'IfOvl', 'xCmnCnl'], def_scale=2, def_filters=10, img_name='арв1 пер с авт руч откл 3х100.png')"
   ]
  },
  {
   "cell_type": "code",
   "execution_count": null,
   "metadata": {},
   "outputs": [],
   "source": [
    "df_ddc3b6 = po(\"арв1 пер с арв1 на арв2  откл усин.csv\", be=(0, -1), not_plot=['yAvr', 'Fnom Hz', 'SetLimQg', 'Eq', 'Fg Hz', 'Pg', 'Qg', 'Ig', 'MaxSetUgV/Hz', 'BiasCmn', 'IfOvl', 'xCmnCnl'], def_scale=2, def_filters=10, img_name='арв1 пер с арв1 на арв2  откл усин.png')"
   ]
  },
  {
   "cell_type": "code",
   "execution_count": null,
   "metadata": {},
   "outputs": [],
   "source": [
    "df_2fb3b3 = po(\"арв1 пер с арв1 на арв2 авт.csv\", be=(0, -1), not_plot=['yAvr', 'Fnom Hz', 'SetLimQg', 'Eq', 'Fg Hz', 'Pg', 'Qg', 'Ig', 'MaxSetUgV/Hz', 'BiasCmn', 'IfOvl', 'xCmnCnl'], def_scale=2, def_filters=10, img_name='арв1 пер с арв1 на арв2 авт.png')"
   ]
  },
  {
   "cell_type": "code",
   "execution_count": null,
   "metadata": {},
   "outputs": [],
   "source": [
    "df_2b429b = po(\"арв1 пер с арв1 на арв2 руч.csv\", be=(0, -1), not_plot=['yAvr', 'Fnom Hz', 'SetLimQg', 'Eq', 'Fg Hz', 'Pg', 'Qg', 'Ig', 'MaxSetUgV/Hz', 'BiasCmn', 'IfOvl', 'xCmnCnl'], def_scale=2, def_filters=10, img_name='арв1 пер с арв1 на арв2 руч.png')"
   ]
  },
  {
   "cell_type": "code",
   "execution_count": null,
   "metadata": {},
   "outputs": [],
   "source": [
    "df_e84439 = po(\"арв1 пер с арв2 на арв1 авт.csv\", be=(0, -1), not_plot=['yAvr', 'Fnom Hz', 'SetLimQg', 'Eq', 'Fg Hz', 'Pg', 'Qg', 'Ig', 'MaxSetUgV/Hz', 'BiasCmn', 'IfOvl', 'xCmnCnl'], def_scale=2, def_filters=10, img_name='арв1 пер с арв2 на арв1 авт.png')"
   ]
  },
  {
   "cell_type": "code",
   "execution_count": null,
   "metadata": {},
   "outputs": [],
   "source": [
    "df_0d5867 = po(\"арв1 пер с арв2 на арв1 откл пит.csv\", be=(0, -1), not_plot=['yAvr', 'Fnom Hz', 'SetLimQg', 'Eq', 'Fg Hz', 'Pg', 'Qg', 'Ig', 'MaxSetUgV/Hz', 'BiasCmn', 'IfOvl', 'xCmnCnl'], def_scale=2, def_filters=10, img_name='арв1 пер с арв2 на арв1 откл пит.png')"
   ]
  },
  {
   "cell_type": "code",
   "execution_count": null,
   "metadata": {},
   "outputs": [],
   "source": [
    "df_03ee37 = po(\"арв1 пер с арв2 на арв1 откл усин.csv\", be=(0, -1), not_plot=['yAvr', 'Fnom Hz', 'SetLimQg', 'Eq', 'Fg Hz', 'Pg', 'Qg', 'Ig', 'MaxSetUgV/Hz', 'BiasCmn', 'IfOvl', 'xCmnCnl'], def_scale=2, def_filters=10, img_name='арв1 пер с арв2 на арв1 откл усин.png')"
   ]
  },
  {
   "cell_type": "code",
   "execution_count": null,
   "metadata": {},
   "outputs": [],
   "source": [
    "df_7071ea = po(\"арв1 пер с арв2 на арв1 руч.csv\", be=(0, -1), not_plot=['yAvr', 'Fnom Hz', 'SetLimQg', 'Eq', 'Fg Hz', 'Pg', 'Qg', 'Ig', 'MaxSetUgV/Hz', 'BiasCmn', 'IfOvl', 'xCmnCnl'], def_scale=2, def_filters=10, img_name='арв1 пер с арв2 на арв1 руч.png')"
   ]
  },
  {
   "cell_type": "code",
   "execution_count": null,
   "metadata": {},
   "outputs": [],
   "source": [
    "df_744ffe = po(\"арв1 пер с рв на тв и с тв на рв2.csv\", be=(60, 80), not_plot=['yAvr', 'Fnom Hz', 'SetLimQg', 'Eq', 'Fg Hz', 'Pg', 'Qg', 'Ig', 'MaxSetUgV/Hz', 'BiasCmn', 'IfOvl', 'xCmnCnl'], def_scale=2, def_filters=10, img_name='арв1 пер с тв на рв.png')"
   ]
  },
  {
   "cell_type": "code",
   "execution_count": null,
   "metadata": {},
   "outputs": [],
   "source": [
    "df_744ffe = po(\"арв1 пер с рв на тв и с тв на рв2.csv\", be=(90, -1), not_plot=['yAvr', 'Fnom Hz', 'SetLimQg', 'Eq', 'Fg Hz', 'Pg', 'Qg', 'Ig', 'MaxSetUgV/Hz', 'BiasCmn', 'IfOvl', 'xCmnCnl'], def_scale=2, def_filters=10, img_name='арв1 пер с рв на тв.png')"
   ]
  },
  {
   "cell_type": "code",
   "execution_count": null,
   "metadata": {},
   "outputs": [],
   "source": [
    "df_78e24b = po(\"арв1 пер с руч в авт.csv\", be=(0, -1), not_plot=['yAvr', 'Fnom Hz', 'SetLimQg', 'Eq', 'Fg Hz', 'Pg', 'Qg', 'Ig', 'MaxSetUgV/Hz', 'BiasCmn', 'IfOvl', 'xCmnCnl'], def_scale=2, def_filters=10, img_name='арв1 пер с руч в авт.png')"
   ]
  },
  {
   "cell_type": "code",
   "execution_count": null,
   "metadata": {},
   "outputs": [],
   "source": [
    "df_a2df56 = po(\"арв1 уст + 5% 5с авт.csv\", be=(14, 31), not_plot=['yAvr', 'Fnom Hz', 'SetLimQg', 'Eq', 'Fg Hz', 'Pg', 'Qg', 'Ig', 'MaxSetUgV/Hz', 'BiasCmn', 'IfOvl', 'xCmnCnl'], img_name='арв1 уст + 5% 5с авт.png')"
   ]
  },
  {
   "cell_type": "code",
   "execution_count": null,
   "metadata": {},
   "outputs": [],
   "source": [
    "df_dcb382 = po(\"арв1 уст +3% 5с руч.csv\", be=(0, 15), not_plot=['yAvr', 'Fnom Hz', 'SetLimQg', 'Eq', 'Fg Hz', 'Pg', 'Qg', 'Ig', 'MaxSetUgV/Hz', 'BiasCmn', 'IfOvl', 'xCmnCnl'], img_name='арв1 уст +3% 5с руч.png')"
   ]
  },
  {
   "cell_type": "code",
   "execution_count": null,
   "metadata": {},
   "outputs": [],
   "source": [
    "df_92e1cc = po(\"арв1 уст -10% 5с руч.csv\", be=(10, 25), not_plot=['yAvr', 'Fnom Hz', 'SetLimQg', 'Eq', 'Fg Hz', 'Pg', 'Qg', 'Ig', 'MaxSetUgV/Hz', 'BiasCmn', 'IfOvl', 'xCmnCnl'], img_name='арв1 уст -10% 5с руч.png')"
   ]
  },
  {
   "cell_type": "code",
   "execution_count": null,
   "metadata": {},
   "outputs": [],
   "source": [
    "df_9f9da2 = po(\"арв1 уст -3% 5с руч.csv\", be=(5, 20), not_plot=['yAvr', 'Fnom Hz', 'SetLimQg', 'Eq', 'Fg Hz', 'Pg', 'Qg', 'Ig', 'MaxSetUgV/Hz', 'BiasCmn', 'IfOvl', 'xCmnCnl'], img_name='арв1 уст -3% 5с руч.png')"
   ]
  },
  {
   "cell_type": "code",
   "execution_count": null,
   "metadata": {},
   "outputs": [],
   "source": [
    "df_726006 = po(\"арв1 уст -5% 5с авт.csv\", be=(5, 20), not_plot=['yAvr', 'Fnom Hz', 'SetLimQg', 'Eq', 'Fg Hz', 'Pg', 'Qg', 'Ig', 'MaxSetUgV/Hz', 'BiasCmn', 'IfOvl', 'xCmnCnl'], img_name='арв1 уст -5% 5с авт.png')"
   ]
  },
  {
   "cell_type": "code",
   "execution_count": null,
   "metadata": {},
   "outputs": [],
   "source": [
    "df_95bbb3 = po(\"арв2 vhz на арв1 и арв2.csv\", be=(50, 80), not_plot=['yAvr', 'Fnom Hz', 'SetLimQg', 'Eq', 'Pg', 'Qg', 'Ig', 'MaxSetUgV/Hz', 'BiasCmn', 'IfOvl', 'xCmnCnl'], add_chart=['vhz'], img_name='арв2 vhz.png')"
   ]
  },
  {
   "cell_type": "code",
   "execution_count": null,
   "metadata": {},
   "outputs": [],
   "source": [
    "df_6fa17e = po(\"арв2 гаш авт.csv\", be=(4, 14), not_plot=['yAvr', 'Fnom Hz', 'SetLimQg', 'Eq', 'Fg Hz', 'Pg', 'Qg', 'Ig', 'MaxSetUgV/Hz', 'BiasCmn', 'IfOvl', 'xCmnCnl'], img_name='арв2 гаш авт.png')"
   ]
  },
  {
   "cell_type": "code",
   "execution_count": null,
   "metadata": {},
   "outputs": [],
   "source": [
    "df_b17b99 = po(\"арв2 гаш откл агп.csv\", be=(6, 16), not_plot=['yAvr', 'Fnom Hz', 'SetLimQg', 'Eq', 'Fg Hz', 'Pg', 'Qg', 'Ig', 'MaxSetUgV/Hz', 'BiasCmn', 'IfOvl', 'xCmnCnl'], img_name='арв2 гаш откл агп.png')"
   ]
  },
  {
   "cell_type": "code",
   "execution_count": null,
   "metadata": {},
   "outputs": [],
   "source": [
    "df_836c13 = po(\"арв2 гаш откл агп по P и Q.csv\", be=(1377, 1387), not_plot=['yAvr', 'Fnom Hz', 'SetLimQg', 'Eq', 'Fg Hz', 'Pg', 'Qg', 'Ig', 'MaxSetUgV/Hz', 'BiasCmn', 'IfOvl', 'xCmnCnl'], img_name='арв2 гаш откл агп по P и Q.png')"
   ]
  },
  {
   "cell_type": "code",
   "execution_count": null,
   "metadata": {},
   "outputs": [],
   "source": [
    "df_967450 = po(\"арв2 гаш откл агп по P и Q2.csv\", be=(216, 226), not_plot=['yAvr', 'Fnom Hz', 'SetLimQg', 'Eq', 'Fg Hz', 'Pg', 'Qg', 'Ig', 'MaxSetUgV/Hz', 'BiasCmn', 'IfOvl', 'xCmnCnl'], img_name='арв2 гаш откл агп по P и Q2.png')"
   ]
  },
  {
   "cell_type": "code",
   "execution_count": null,
   "metadata": {},
   "outputs": [],
   "source": [
    "df_6f25f6 = po(\"арв2 гаш откл агп по T.csv\", be=(80, 90), not_plot=['yAvr', 'Fnom Hz', 'SetLimQg', 'Eq', 'Fg Hz', 'Pg', 'Qg', 'Ig', 'MaxSetUgV/Hz', 'BiasCmn', 'IfOvl', 'xCmnCnl'], img_name='арв2 гаш откл агп по T.png')"
   ]
  },
  {
   "cell_type": "code",
   "execution_count": null,
   "metadata": {},
   "outputs": [],
   "source": [
    "df_8a6eeb = po(\"арв2 гаш руч.csv\", be=(13, 23), not_plot=['yAvr', 'Fnom Hz', 'SetLimQg', 'Eq', 'Fg Hz', 'Pg', 'Qg', 'Ig', 'MaxSetUgV/Hz', 'BiasCmn', 'IfOvl', 'xCmnCnl'], img_name='арв2 гаш руч.png')"
   ]
  },
  {
   "cell_type": "code",
   "execution_count": null,
   "metadata": {},
   "outputs": [],
   "source": [
    "df_a52899 = po(\"арв2 диапаз авт.csv\", be=(20, 170), not_plot=['yAvr', 'Fnom Hz', 'SetLimQg', 'Eq', 'Fg Hz', 'Pg', 'Qg', 'Ig', 'MaxSetUgV/Hz', 'BiasCmn', 'IfOvl', 'xCmnCnl'], img_name='арв2 диапаз авт.png')"
   ]
  },
  {
   "cell_type": "code",
   "execution_count": null,
   "metadata": {},
   "outputs": [],
   "source": [
    "df_07eae5 = po(\"арв2 диапаз руч.csv\", be=(12, 72), not_plot=['yAvr', 'Fnom Hz', 'SetLimQg', 'Eq', 'Fg Hz', 'Pg', 'Qg', 'Ig', 'MaxSetUgV/Hz', 'BiasCmn', 'IfOvl', 'xCmnCnl'], img_name='арв2 диапаз руч.png')"
   ]
  },
  {
   "cell_type": "code",
   "execution_count": null,
   "metadata": {},
   "outputs": [],
   "source": [
    "df_dbdce0 = po(\"арв2 нв авт.csv\", be=(10, 25), not_plot=['yAvr', 'Fnom Hz', 'SetLimQg', 'Eq', 'Fg Hz', 'Pg', 'Qg', 'Ig', 'MaxSetUgV/Hz', 'BiasCmn', 'IfOvl', 'xCmnCnl'], img_name='арв2 нв авт.png')"
   ]
  },
  {
   "cell_type": "code",
   "execution_count": null,
   "metadata": {},
   "outputs": [],
   "source": [
    "df_e987c9 = po(\"арв2 нв руч.csv\", be=(0, 20), not_plot=['yAvr', 'Fnom Hz', 'SetLimQg', 'Eq', 'Fg Hz', 'Pg', 'Qg', 'Ig', 'MaxSetUgV/Hz', 'BiasCmn', 'IfOvl', 'xCmnCnl'], img_name='арв2 нв руч.png')"
   ]
  },
  {
   "cell_type": "code",
   "execution_count": null,
   "metadata": {},
   "outputs": [],
   "source": [
    "df_19473e = po(\"арв2 пер с авт на руч.csv\", be=(0, -1), not_plot=['yAvr', 'Fnom Hz', 'SetLimQg', 'Eq', 'Fg Hz', 'Pg', 'Qg', 'Ig', 'MaxSetUgV/Hz', 'BiasCmn', 'IfOvl', 'xCmnCnl'], def_scale=2, def_filters=10, img_name='арв2 пер с авт на руч.png')"
   ]
  },
  {
   "cell_type": "code",
   "execution_count": null,
   "metadata": {},
   "outputs": [],
   "source": [
    "df_52aee0 = po(\"арв2 пер с авт на руч откл 3х100.csv\", be=(10, -1), not_plot=['yAvr', 'Fnom Hz', 'SetLimQg', 'Eq', 'Fg Hz', 'Pg', 'Qg', 'Ig', 'MaxSetUgV/Hz', 'BiasCmn', 'IfOvl', 'xCmnCnl'], def_scale=2, def_filters=10, img_name='арв2 пер с авт на руч откл 3х100.png')"
   ]
  },
  {
   "cell_type": "code",
   "execution_count": null,
   "metadata": {},
   "outputs": [],
   "source": [
    "df_dd3c3e = po(\"арв2 пер с арв1 на арв2 авт.csv\", be=(0, -1), not_plot=['yAvr', 'Fnom Hz', 'SetLimQg', 'Eq', 'Fg Hz', 'Pg', 'Qg', 'Ig', 'MaxSetUgV/Hz', 'BiasCmn', 'IfOvl', 'xCmnCnl'], def_scale=2, def_filters=10, img_name='арв2 пер с арв1 на арв2 авт.png')"
   ]
  },
  {
   "cell_type": "code",
   "execution_count": null,
   "metadata": {},
   "outputs": [],
   "source": [
    "df_c36030 = po(\"арв2 пер с арв1 на арв2 откл 3х100.csv\", be=(0, -1), not_plot=['yAvr', 'Fnom Hz', 'SetLimQg', 'Eq', 'Fg Hz', 'Pg', 'Qg', 'Ig', 'MaxSetUgV/Hz', 'BiasCmn', 'IfOvl', 'xCmnCnl'], def_scale=2, def_filters=10, img_name='арв2 пер с арв1 на арв2 откл 3х100.png')"
   ]
  },
  {
   "cell_type": "code",
   "execution_count": null,
   "metadata": {},
   "outputs": [],
   "source": [
    "df_104e04 = po(\"арв2 пер с арв1 на арв2 откл пит.csv\", be=(10, -1), not_plot=['yAvr', 'Fnom Hz', 'SetLimQg', 'Eq', 'Fg Hz', 'Pg', 'Qg', 'Ig', 'MaxSetUgV/Hz', 'BiasCmn', 'IfOvl', 'xCmnCnl'], def_scale=2, def_filters=10, img_name='арв2 пер с арв1 на арв2 откл пит.png')"
   ]
  },
  {
   "cell_type": "code",
   "execution_count": null,
   "metadata": {},
   "outputs": [],
   "source": [
    "df_0ea9e3 = po(\"арв2 пер с арв1 на арв2 откл усин.csv\", be=(15, -1), not_plot=['yAvr', 'Fnom Hz', 'SetLimQg', 'Eq', 'Fg Hz', 'Pg', 'Qg', 'Ig', 'MaxSetUgV/Hz', 'BiasCmn', 'IfOvl', 'xCmnCnl'], def_scale=2, def_filters=10, img_name='арв2 пер с арв1 на арв2 откл усин.png')"
   ]
  },
  {
   "cell_type": "code",
   "execution_count": null,
   "metadata": {},
   "outputs": [],
   "source": [
    "df_82c712 = po(\"арв2 пер с арв1 на арв2 руч.csv\", be=(0, -1), not_plot=['yAvr', 'Fnom Hz', 'SetLimQg', 'Eq', 'Fg Hz', 'Pg', 'Qg', 'Ig', 'MaxSetUgV/Hz', 'BiasCmn', 'IfOvl', 'xCmnCnl'], def_scale=2, def_filters=10, img_name='арв2 пер с арв1 на арв2 руч.png')"
   ]
  },
  {
   "cell_type": "code",
   "execution_count": null,
   "metadata": {},
   "outputs": [],
   "source": [
    "df_fa332a = po(\"арв2 пер с арв2 на арв1 авт.csv\", be=(0, -1), not_plot=['yAvr', 'Fnom Hz', 'SetLimQg', 'Eq', 'Fg Hz', 'Pg', 'Qg', 'Ig', 'MaxSetUgV/Hz', 'BiasCmn', 'IfOvl', 'xCmnCnl'], def_scale=2, def_filters=10, img_name='арв2 пер с арв2 на арв1 авт.png')"
   ]
  },
  {
   "cell_type": "code",
   "execution_count": null,
   "metadata": {},
   "outputs": [],
   "source": [
    "df_d520c5 = po(\"арв2 пер с арв2 на арв1 откл 3х100.csv\", be=(0, -1), not_plot=['yAvr', 'Fnom Hz', 'SetLimQg', 'Eq', 'Fg Hz', 'Pg', 'Qg', 'Ig', 'MaxSetUgV/Hz', 'BiasCmn', 'IfOvl', 'xCmnCnl'], def_scale=2, def_filters=10, img_name='арв2 пер с арв2 на арв1 откл 3х100.png')"
   ]
  },
  {
   "cell_type": "code",
   "execution_count": null,
   "metadata": {},
   "outputs": [],
   "source": [
    "df_62159a = po(\"арв2 пер с арв2 на арв1 откл усин.csv\", be=(0, -1), not_plot=['yAvr', 'Fnom Hz', 'SetLimQg', 'Eq', 'Fg Hz', 'Pg', 'Qg', 'Ig', 'MaxSetUgV/Hz', 'BiasCmn', 'IfOvl', 'xCmnCnl'], def_scale=2, def_filters=10, img_name='арв2 пер с арв2 на арв1 откл усин.png')"
   ]
  },
  {
   "cell_type": "code",
   "execution_count": null,
   "metadata": {},
   "outputs": [],
   "source": [
    "df_134234 = po(\"арв2 пер с арв2 на арв1 руч.csv\", be=(0, -1), not_plot=['yAvr', 'Fnom Hz', 'SetLimQg', 'Eq', 'Fg Hz', 'Pg', 'Qg', 'Ig', 'MaxSetUgV/Hz', 'BiasCmn', 'IfOvl', 'xCmnCnl'], def_scale=2, def_filters=10, img_name='арв2 пер с арв2 на арв1 руч.png')"
   ]
  },
  {
   "cell_type": "code",
   "execution_count": null,
   "metadata": {},
   "outputs": [],
   "source": [
    "df_2bdd9d = po(\"арв2 пер с руч на авт.csv\", be=(0, -1), not_plot=['yAvr', 'Fnom Hz', 'SetLimQg', 'Eq', 'Fg Hz', 'Pg', 'Qg', 'Ig', 'MaxSetUgV/Hz', 'BiasCmn', 'IfOvl', 'xCmnCnl'], def_scale=2, def_filters=10, img_name='арв2 пер с руч на авт.png')"
   ]
  },
  {
   "cell_type": "code",
   "execution_count": null,
   "metadata": {},
   "outputs": [],
   "source": [
    "df_8aa6ce = po(\"арв2 уст +3% 5с руч.csv\", be=(2, 17), not_plot=['yAvr', 'Fnom Hz', 'SetLimQg', 'Eq', 'Fg Hz', 'Pg', 'Qg', 'Ig', 'MaxSetUgV/Hz', 'BiasCmn', 'IfOvl', 'xCmnCnl'], img_name='арв2 уст +3% 5с руч.png')"
   ]
  },
  {
   "cell_type": "code",
   "execution_count": null,
   "metadata": {},
   "outputs": [],
   "source": [
    "df_368273 = po(\"арв2 уст +5% 5с авт.csv\", be=(1, 16), not_plot=['yAvr', 'Fnom Hz', 'SetLimQg', 'Eq', 'Fg Hz', 'Pg', 'Qg', 'Ig', 'MaxSetUgV/Hz', 'BiasCmn', 'IfOvl', 'xCmnCnl'], img_name='арв2 уст +5% 5с авт.png')"
   ]
  },
  {
   "cell_type": "code",
   "execution_count": null,
   "metadata": {},
   "outputs": [],
   "source": [
    "df_c868aa = po(\"арв2 уст -3% 5с руч.csv\", be=(1, 16), not_plot=['yAvr', 'Fnom Hz', 'SetLimQg', 'Eq', 'Fg Hz', 'Pg', 'Qg', 'Ig', 'MaxSetUgV/Hz', 'BiasCmn', 'IfOvl', 'xCmnCnl'], img_name='арв2 уст -3% 5с руч.png')"
   ]
  },
  {
   "cell_type": "code",
   "execution_count": null,
   "metadata": {},
   "outputs": [],
   "source": [
    "df_430758 = po(\"арв2 уст -5% 5с авт.csv\", be=(1, 16), not_plot=['yAvr', 'Fnom Hz', 'SetLimQg', 'Eq', 'Fg Hz', 'Pg', 'Qg', 'Ig', 'MaxSetUgV/Hz', 'BiasCmn', 'IfOvl', 'xCmnCnl'], img_name='арв2 уст -5% 5с авт.png')"
   ]
  },
  {
   "cell_type": "code",
   "execution_count": null,
   "metadata": {},
   "outputs": [],
   "source": []
  }
 ],
 "metadata": {
  "kernelspec": {
   "display_name": "Python 3 (ipykernel)",
   "language": "python",
   "name": "python3"
  },
  "language_info": {
   "codemirror_mode": {
    "name": "ipython",
    "version": 3
   },
   "file_extension": ".py",
   "mimetype": "text/x-python",
   "name": "python",
   "nbconvert_exporter": "python",
   "pygments_lexer": "ipython3",
   "version": "3.12.0"
  }
 },
 "nbformat": 4,
 "nbformat_minor": 4
}
