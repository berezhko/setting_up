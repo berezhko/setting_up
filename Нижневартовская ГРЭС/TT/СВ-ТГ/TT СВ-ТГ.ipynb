{
 "cells": [
  {
   "cell_type": "code",
   "execution_count": 1,
   "metadata": {},
   "outputs": [
    {
     "name": "stdout",
     "output_type": "stream",
     "text": [
      "Populating the interactive namespace from numpy and matplotlib\n"
     ]
    }
   ],
   "source": [
    "%pylab inline"
   ]
  },
  {
   "cell_type": "code",
   "execution_count": 2,
   "metadata": {},
   "outputs": [],
   "source": [
    "pylab.rcParams['figure.figsize'] = (20, 11.0)\n",
    "pylab.rcParams['font.family'] = \"serif\"\n",
    "pylab.rcParams['font.size'] = 16"
   ]
  },
  {
   "cell_type": "code",
   "execution_count": 3,
   "metadata": {},
   "outputs": [],
   "source": [
    "import pandas as pd"
   ]
  },
  {
   "cell_type": "code",
   "execution_count": 4,
   "metadata": {},
   "outputs": [],
   "source": [
    "def print_voltege(file, current_point=[0.1, 0.5, 1, 1.5, 2, 3, 4, 5]):\n",
    "        \n",
    "    with open(file) as file_description:\n",
    "        lines = [line.rstrip() for line in file_description]\n",
    "        \n",
    "    s = ''\n",
    "    for i in lines:\n",
    "        s += i\n",
    "    \n",
    "    from xmltodict import parse\n",
    "    doc = parse(s[3:])\n",
    "    \n",
    "    point_count = len(doc['RETOM-21']['TransCur']['Collection'])\n",
    "    \n",
    "    volt_point=[]\n",
    "    I_old = 0\n",
    "    V_old = 0\n",
    "    line_interpol = lambda x, x1, x2, y1, y2: (y2-y1)*(x-x1)/(x2-x1) + y1\n",
    "    \n",
    "    for i in range(point_count):\n",
    "        string_point = \"Point_\" + str(i)\n",
    "        point = doc['RETOM-21']['TransCur']['Collection'][string_point]\n",
    "        I = float(point['@Amper'])\n",
    "        V = float(point['@Volt'])\n",
    "        for current in current_point:\n",
    "            if I_old < current and current < I:\n",
    "                volt_result = line_interpol(current, I_old, I, V_old, V)\n",
    "                volt_point.append(volt_result)\n",
    "        I_old = I\n",
    "        V_old = V\n",
    "\n",
    "    for k in map(lambda x: round(x, 3), volt_point):\n",
    "        print(k)"
   ]
  },
  {
   "cell_type": "code",
   "execution_count": 5,
   "metadata": {},
   "outputs": [],
   "source": [
    "def read_r21_transI(xml_file):\n",
    "    with open(xml_file) as file:\n",
    "        lines = [line.rstrip() for line in file]\n",
    "        \n",
    "    s = ''\n",
    "    for i in lines:\n",
    "        s += i\n",
    "    \n",
    "    from xmltodict import parse\n",
    "    doc = parse(s[3:])\n",
    "    \n",
    "    point_count = len(doc['RETOM-21']['TransCur']['Collection'])\n",
    "    \n",
    "    I = []\n",
    "    V = []\n",
    "    for i in range(point_count):\n",
    "        string_point = \"Point_\" + str(i)\n",
    "        point = doc['RETOM-21']['TransCur']['Collection'][string_point]\n",
    "        I.append(float(point['@Amper']))\n",
    "        V.append(float(point['@Volt']))\n",
    "\n",
    "    return pd.DataFrame({\"V\": V, \"I\": I})"
   ]
  },
  {
   "cell_type": "code",
   "execution_count": 6,
   "metadata": {},
   "outputs": [],
   "source": [
    "def print_voltage_in_current_point(data_frame, current_point=[0.1, 0.5, 1, 1.5, 2, 3, 4, 5]):\n",
    "    df = pd.DataFrame(array(data_frame[\"V\"]), index=array(data_frame[\"I\"]))\n",
    "    index = concatenate((df.index, current_point), axis=0)\n",
    "    index.sort()\n",
    "    df2 = df.reindex(index)\n",
    "    df3 = df2.interpolate()\n",
    "    \n",
    "    for i in current_point:\n",
    "        print(round(df3[0][i], 2))"
   ]
  },
  {
   "cell_type": "code",
   "execution_count": 7,
   "metadata": {},
   "outputs": [],
   "source": [
    "def plotVA(pandasData, TT, color, subname=\"\"):\n",
    "    f, a = subplots(1, 1, sharey=False)\n",
    "\n",
    "    #f.suptitle(\"Трансформатор тока: \"+TT)\n",
    "    a.plot(pandasData[\"I\"], pandasData[\"V\"], color+\"-o\", lw=2)\n",
    "\n",
    "    a.set_xlim(-0.5, 5.5)\n",
    "    a.set_ylim(0, 1.05*max(pandasData[\"V\"]))\n",
    "    a.set_xlabel(\"Ток, [A]\", fontsize=16, family=\"serif\")\n",
    "    a.set_ylabel(\"Напряжение [В]\", fontsize=16, family=\"serif\")\n",
    "    a.legend((TT, TT), loc=\"best\")\n",
    "    a.grid(which='minor', linewidth=0.3)\n",
    "    a.grid(which='major', linewidth=1)\n",
    "\n",
    "    f.savefig(TT+subname+\".png\", bbox_inches='tight', pad_inches=0.1)"
   ]
  },
  {
   "cell_type": "code",
   "execution_count": 12,
   "metadata": {},
   "outputs": [
    {
     "name": "stdout",
     "output_type": "stream",
     "text": [
      "62.37\n",
      "128.47\n",
      "133.36\n",
      "135.01\n",
      "135.98\n",
      "136.63\n",
      "137.17\n",
      "137.66\n"
     ]
    },
    {
     "data": {
      "image/png": "[encoded data removed]",
      "text/plain": [
       "<Figure size 1440x792 with 1 Axes>"
      ]
     },
     "metadata": {
      "needs_background": "light"
     },
     "output_type": "display_data"
    }
   ],
   "source": [
    "tt_name = \"TA1C\"\n",
    "trand_file = tt_name + \".r21_transI\"\n",
    "df = read_r21_transI(trand_file)\n",
    "print_voltage_in_current_point(df)\n",
    "\n",
    "plotVA(df, tt_name, color=\"r\")"
   ]
  }
 ],
 "metadata": {
  "kernelspec": {
   "display_name": "Python 3 (ipykernel)",
   "language": "python",
   "name": "python3"
  },
  "language_info": {
   "codemirror_mode": {
    "name": "ipython",
    "version": 3
   },
   "file_extension": ".py",
   "mimetype": "text/x-python",
   "name": "python",
   "nbconvert_exporter": "python",
   "pygments_lexer": "ipython3",
   "version": "3.12.0"
  }
 },
 "nbformat": 4,
 "nbformat_minor": 4
}
